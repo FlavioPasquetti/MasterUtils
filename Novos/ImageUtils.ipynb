{
 "cells": [
  {
   "cell_type": "markdown",
   "metadata": {},
   "source": [
    "# Sumário\n",
    "\n",
    "- Tornar Background Transparente"
   ]
  },
  {
   "cell_type": "markdown",
   "metadata": {},
   "source": [
    "---\n",
    "\n",
    "## Tornar Background Transparente"
   ]
  },
  {
   "cell_type": "code",
   "execution_count": null,
   "metadata": {},
   "outputs": [],
   "source": [
    "from PIL import Image\n",
    "from tkinter import filedialog\n",
    "\n",
    "def transpBackground(red, green, blue):\n",
    "\n",
    "    caminhoDaImagem = filedialog.askopenfilename()\n",
    "\n",
    "    img = Image.open(caminhoDaImagem)\n",
    "    img = img.convert(\"RGBA\")\n",
    "  \n",
    "    datas = img.getdata()\n",
    "  \n",
    "    newData = []\n",
    "  \n",
    "    for item in datas:\n",
    "        if item[0] == red and item[1] == green and item[2] == blue:\n",
    "            newData.append((red, green, blue, 0))\n",
    "        else:\n",
    "            newData.append(item)\n",
    "  \n",
    "    img.putdata(newData)\n",
    "\n",
    "    diretorio = filedialog.askdirectory()\n",
    "    img.save(diretorio + \"/new.png\", \"PNG\")\n",
    "    print(\"Successful\")\n"
   ]
  }
 ],
 "metadata": {
  "kernelspec": {
   "display_name": "Python 3.11.0 64-bit",
   "language": "python",
   "name": "python3"
  },
  "language_info": {
   "name": "python",
   "version": "3.11.0"
  },
  "orig_nbformat": 4,
  "vscode": {
   "interpreter": {
    "hash": "bbdadfe1f83964498f598e2ccbc32e3d3338e96c8519380faba7ad29e0797684"
   }
  }
 },
 "nbformat": 4,
 "nbformat_minor": 2
}
