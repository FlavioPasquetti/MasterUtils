{
 "cells": [
  {
   "cell_type": "markdown",
   "metadata": {},
   "source": [
    "# Sumário\n",
    "\n",
    "- Distribuição Binomial\n",
    "\n",
    "- Distribuição de Poisson\n",
    "\n",
    "- Distribuição Normal\n",
    "\n",
    "- Intervalos de Confiança\n",
    "\n",
    "- Tamanho Amostral"
   ]
  },
  {
   "cell_type": "markdown",
   "metadata": {},
   "source": [
    "---\n",
    "\n",
    "### Distribuição Binomial"
   ]
  },
  {
   "cell_type": "code",
   "execution_count": null,
   "metadata": {},
   "outputs": [],
   "source": [
    "from scipy.stats import binom\n",
    "\n",
    "\n",
    "def Probabilidade_DistribBinomial (k, n, p, cumulativo= False):\n",
    "    \n",
    "    #p= probabilidade de sucesso evento unico\n",
    "    #q= (1-p) = probabilidade de fracasso evento unico\n",
    "    #n= numero de eventos estudados\n",
    "    #k= numero de eventos desejados que tenham sucesso (pode ser uma lista)\n",
    "\n",
    "    if (cumulativo):\n",
    "        return binom.cdf(k,n,p)\n",
    "\n",
    "    else:\n",
    "        return binom.pmf(k,n,p)"
   ]
  },
  {
   "cell_type": "markdown",
   "metadata": {},
   "source": [
    "---\n",
    "\n",
    "### Distribuição Poisson"
   ]
  },
  {
   "cell_type": "code",
   "execution_count": null,
   "metadata": {},
   "outputs": [],
   "source": [
    "from scipy.stats import binom, poisson\n",
    "\n",
    "\n",
    "def Probabilidade_DistribPoisson (k, u):\n",
    "\n",
    "    #e= constante= 2.718281828459045\n",
    "    #u= representa o numero medio de ocorrencias em um determinado intervalo de tempo ou espaco\n",
    "    #k= numero de sucessos no intervalo desejado\n",
    "\n",
    "    return poisson.pmf(k, u)"
   ]
  },
  {
   "cell_type": "markdown",
   "metadata": {},
   "source": [
    "---\n",
    "\n",
    "### Distribuição Normal"
   ]
  },
  {
   "cell_type": "code",
   "execution_count": null,
   "metadata": {},
   "outputs": [],
   "source": [
    "from scipy.stats import norm\n",
    "\n",
    "\n",
    "def Probabilidade_DistribNormal (x, o, u, typeP= \"cumulative\"):\n",
    "\n",
    "    #x= variavel normal\n",
    "    #o= desvio padrao\n",
    "    #u= media\n",
    "    #typeP= cumulative, between, rest\n",
    "\n",
    "    if (typeP== \"cumulative\"):\n",
    "        Z= (x - u)/o\n",
    "\n",
    "        return norm.cdf(Z)\n",
    "\n",
    "    elif (typeP== \"between\"):\n",
    "        Zinf= (x[0] - u)/o\n",
    "        Zsup= (x[1] - u)/o\n",
    "\n",
    "        return norm.cdf(Zsup) - norm.cdf(Zinf)\n",
    "\n",
    "    elif (typeP== \"rest\"):\n",
    "        Z= (x - u)/o\n",
    "\n",
    "        return 1 - norm.cdf(Z)"
   ]
  },
  {
   "cell_type": "markdown",
   "metadata": {},
   "source": [
    "---\n",
    "\n",
    "### Intervalos de Confiança"
   ]
  },
  {
   "cell_type": "code",
   "execution_count": null,
   "metadata": {},
   "outputs": [],
   "source": [
    "from statsmodels.stats.weightstats import zconfint, DescrStatsW\n",
    "\n",
    "\n",
    "#PROBABILIDADE - Intervalo de Confianca Normal\n",
    "\n",
    "def intervaloConfianca_Norm(significancia, media_amostral, sigma):\n",
    "\n",
    "    #sigma= desvio padrao/ raiz(quantidade Amostra)\n",
    "    \n",
    "    return norm.interval (alpha= significancia, loc= media_amostral, scale= sigma)\n",
    "\n",
    "#---------------------------------------------------------------------------------------------\n",
    "#PROBABILIDADE - Intervalo de Confianca Z - Amostras Grandes\n",
    "\n",
    "def intervaloConfianca_Zconf(df, significancia= 0.05):\n",
    "\n",
    "    return zconfint(df, alpha= significancia)\n",
    "\n",
    "#---------------------------------------------------------------------------------------------\n",
    "#PROBABILIDADE - Intervalo de Confianca T - Amostras Pequenas\n",
    "\n",
    "def intervaloConfianca_Tconf(df, significancia= 0.05):\n",
    "\n",
    "    df_DescStats= DescrStatsW(df)\n",
    "    return df_DescStats.tconfint_mean(alpha= significancia)\n"
   ]
  },
  {
   "cell_type": "markdown",
   "metadata": {},
   "source": [
    "---\n",
    "\n",
    "### Tamanho Amostral"
   ]
  },
  {
   "cell_type": "code",
   "execution_count": null,
   "metadata": {},
   "outputs": [],
   "source": [
    "def tamanhoAmostra (z, e, o):\n",
    "\n",
    "    #z= variavel normal padronizada - ex: caso queira 95% de confianca Z= norm.ppf(0.5 + (0.95/2))\n",
    "    #o= desvio padrao populacional ou amostral (s) caso seja desconhecido o desvio padrao\n",
    "    #e= erro inferencial - valor que pode ser variada a variavel normal ex: R$3000 +- 100.. o 100 seria o erro inferencial\n",
    "\n",
    "    return (z*(o/e))**2\n",
    "\n",
    "def tamanhoAmostra (N, z, o, e):\n",
    "\n",
    "    #N= Tamanho da populacao\n",
    "    #z= variavel normal padronizada - ex: caso queira 95% de confianca Z= norm.ppf(0.5 + (0.95/2))\n",
    "    #o= desvio padrao populacional ou amostral (s) caso seja desconhecido o desvio padrao\n",
    "    #e= erro inferencial - valor que pode ser variada a variavel normal ex: R$3000 +- 100.. o 100 seria o erro inferencial\n",
    "\n",
    "    return ((z**2)*(o**2)*N) / ( ((z**2)*(o**2)) + (e**2)*(N-1) )"
   ]
  }
 ],
 "metadata": {
  "kernelspec": {
   "display_name": "Python 3.9.13 64-bit (microsoft store)",
   "language": "python",
   "name": "python3"
  },
  "language_info": {
   "name": "python",
   "version": "3.9.13"
  },
  "orig_nbformat": 4,
  "vscode": {
   "interpreter": {
    "hash": "22249c06b34dde04f268a02107fba36645bebee31756ef5559163160edf65dae"
   }
  }
 },
 "nbformat": 4,
 "nbformat_minor": 2
}
