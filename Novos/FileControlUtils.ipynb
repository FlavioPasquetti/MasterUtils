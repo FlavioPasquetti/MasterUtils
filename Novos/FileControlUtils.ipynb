{
 "cells": [
  {
   "cell_type": "markdown",
   "metadata": {},
   "source": [
    "# Sumario\n",
    "\n",
    "1. Caixa de Dialogo para Seleção de Arquivos com Determinada Extensão\n",
    "\n",
    "2. Obter o Local de Execução do Script ou .exe\n",
    "\n",
    "3. Verifica a Extensão do Arquivo\n",
    "\n",
    "4. Lista todos diretorios de um path\n",
    "\n",
    "5. Lista todos os diretorios de um caminho\n",
    "\n",
    "6. Lista os arquivos e as pastas de um caminho\n",
    "\n",
    "7. Limpa path\n",
    "\n",
    "8. Cria uma pasta ou um arquivo\n",
    "\n",
    "9. Confere se determinado caminho existe\n",
    "\n",
    "10. Verifica se o caminho é um arquivo\n",
    "\n",
    "11. Verifica se o caminho é uma pasta\n",
    "\n",
    "12. Deleta um diretorio ou um arquivo\n",
    "\n",
    "13. Cria um diretorio\n",
    "\n",
    "14. Move um arquivo ou pasta\n",
    "\n",
    "15. Copia um arquivo ou uma pasta\n",
    "\n",
    "\n",
    "---"
   ]
  },
  {
   "cell_type": "markdown",
   "metadata": {},
   "source": [
    "### 1. Caixa de Dialogo para Seleção de Arquivos com Determinada Extensão"
   ]
  },
  {
   "cell_type": "code",
   "execution_count": null,
   "metadata": {},
   "outputs": [],
   "source": [
    "from tkinter import filedialog\n",
    "\n",
    "def openFile (typeFile, exts):\n",
    "\n",
    "    return filedialog.askopenfiles(filetypes=[(typeFile, exts)])     "
   ]
  },
  {
   "cell_type": "code",
   "execution_count": null,
   "metadata": {},
   "outputs": [],
   "source": [
    "#Teste\n",
    "files= openFile(\"Imagens (.png, .jpg)\", (\"*.png\", \"*.jpg\"))"
   ]
  },
  {
   "cell_type": "markdown",
   "metadata": {},
   "source": [
    "### 2. Obter o Local de Execução do Script ou .exe"
   ]
  },
  {
   "cell_type": "code",
   "execution_count": null,
   "metadata": {},
   "outputs": [],
   "source": [
    "import os, sys\n",
    "\n",
    "def localPath ():\n",
    "\n",
    "    localPath = \"\"\n",
    "    if getattr(sys, \"frozen\", False):\n",
    "        localPath = os.path.dirname(sys.executable)\n",
    "    elif __file__:\n",
    "        localPath = os.path.dirname(__file__)\n",
    "\n",
    "    return localPath"
   ]
  },
  {
   "cell_type": "code",
   "execution_count": null,
   "metadata": {},
   "outputs": [],
   "source": [
    "#Teste\n",
    "pathLocal= localPath()"
   ]
  },
  {
   "cell_type": "markdown",
   "metadata": {},
   "source": [
    "### 3. Verifica a Extensão do Arquivo"
   ]
  },
  {
   "cell_type": "code",
   "execution_count": null,
   "metadata": {},
   "outputs": [],
   "source": [
    "def extFile(pathFile, ext):\n",
    "\n",
    "    return pathFile.lower().endswith(ext)"
   ]
  },
  {
   "cell_type": "code",
   "execution_count": null,
   "metadata": {},
   "outputs": [],
   "source": [
    "#Teste\n",
    "testePath= \"testefileName.gts\"\n",
    "print (extFile(testePath, \".gts\"))\n",
    "#>> True\n",
    "print (extFile(testePath, \".fdfd\"))\n",
    "#>> False"
   ]
  },
  {
   "cell_type": "markdown",
   "metadata": {},
   "source": [
    "### 4. Lista todos diretorios de um path"
   ]
  },
  {
   "cell_type": "code",
   "execution_count": null,
   "metadata": {},
   "outputs": [],
   "source": [
    "import os\n",
    "\n",
    "def dirList (pathDir, prefix = \"\"):\n",
    "\n",
    "    listDir = \"\"\n",
    "\n",
    "    for path in os.listdir(pathDir):\n",
    "\n",
    "        if os.path.isfile(os.path.join(pathDir, path)):\n",
    "            listDir += prefix + \"- \" + path + \"\\n\"\n",
    "\n",
    "        else:\n",
    "            listDir += prefix + \" \" + path + \"\\n\"\n",
    "\n",
    "    return listDir "
   ]
  },
  {
   "cell_type": "code",
   "execution_count": null,
   "metadata": {},
   "outputs": [],
   "source": [
    "#Teste\n",
    "listDir= dirList (r\"C:\\Users\\Flavio\\Documents\\GitHub\\MasterUtils\")\n",
    "\n",
    "print (listDir)\n",
    "#>>  !OtherUtils\n",
    "#>>  .git\n",
    "#>>  arquivosTeste\n",
    "#>> - EspecialUtils.py\n",
    "#>> - EstatisticaUtils.py\n",
    "#>> - FileControlUtils.ipynb\n",
    "#>> - FileControlUtils.py\n",
    "#>> - imageUtils.py\n",
    "#>>  imgs\n",
    "#>> - InterfaceUtils.py\n",
    "#>> - MachineLearning.ipynb\n",
    "#>> - MachineLearnUtils.py\n",
    "#>> - MasterUtils.py\n",
    "#>> - MathUtils.py\n",
    "#>> - OldMathUtils.py\n",
    "#>> - PlotsUtils.py\n",
    "#>> - ProbUtils.py\n",
    "#>> - RegressaoUtils.py\n",
    "#>>  Resumos\n",
    "#>> - SistemaUtils.py\n",
    "#>> - teste.py\n",
    "#>> - UnidConverterUtils.py\n",
    "#>> - VarControlsUtils.py\n",
    "#>> - webScraping.py\n",
    "#>>  __pycache__\n"
   ]
  },
  {
   "cell_type": "markdown",
   "metadata": {},
   "source": [
    "### 5. Lista todos os diretorios de um caminho\n",
    "pathDir= Caminho que vai ser iniciada a leitura \n",
    "\n",
    "limit= (True) encerra apos a contagem de x loops, (False) encerra só após todos diretorios serem lidos\n",
    "\n",
    "loopC= Quantidade de Loops de Leitura\n",
    "\n",
    "prefix= Prefixo antes dos prints"
   ]
  },
  {
   "cell_type": "code",
   "execution_count": null,
   "metadata": {},
   "outputs": [],
   "source": [
    "import os\n",
    "\n",
    "def dirWalk (pathDir, limit = False, loopC = 100, prefix = \"\"):\n",
    "\n",
    "    listDir = \"\"\n",
    "    folders = []\n",
    "\n",
    "    print (prefix + \"╭ \" + pathDir)\n",
    "    prefix += \"|\"\n",
    "\n",
    "    for name in os.listdir(pathDir):\n",
    "\n",
    "        path = os.path.join(pathDir, name)\n",
    "\n",
    "        if os.path.isfile(path):\n",
    "            print (prefix + \" \" + name)\n",
    "\n",
    "\n",
    "    for name in os.listdir(pathDir):\n",
    "\n",
    "        path = os.path.join(pathDir, name)\n",
    "        loopC -= 1\n",
    "\n",
    "        if not os.path.isfile(path):\n",
    "            loopC = dirWalk (path, limit, loopC, prefix)\n",
    "\n",
    "        if loopC <= 0 and limit:\n",
    "            break\n",
    "            \n",
    "    return loopC"
   ]
  },
  {
   "cell_type": "code",
   "execution_count": null,
   "metadata": {},
   "outputs": [],
   "source": [
    "#Teste\n",
    "dirWalk (r\"C:\\Users\\Flavio\\Documents\\GitHub\\MasterUtils\")\n",
    "#>> ╭ C:\\Users\\Flavio\\Documents\\GitHub\\MasterUtils\n",
    "#>> | EspecialUtils.py\n",
    "#>> | EstatisticaUtils.py\n",
    "#>> | FileControlUtils.ipynb\n",
    "#>> | FileControlUtils.py\n",
    "#>> | imageUtils.py\n",
    "#>> | InterfaceUtils.py\n",
    "#>> | MachineLearning.ipynb\n",
    "#>> | MachineLearnUtils.py\n",
    "#>> | MasterUtils.py\n",
    "#>> | MathUtils.py\n",
    "#>> | OldMathUtils.py\n",
    "#>> | PlotsUtils.py\n",
    "#>> | ProbUtils.py\n",
    "#>> | RegressaoUtils.py\n",
    "#>> | SistemaUtils.py\n",
    "#>> | teste.py\n",
    "#>> | UnidConverterUtils.py\n",
    "#>> | VarControlsUtils.py\n",
    "#>> | webScraping.py\n",
    "#>> |╭ C:\\Users\\Flavio\\Documents\\GitHub\\MasterUtils\\!OtherUtils\n",
    "#>> || utils.pyw\n",
    "#>> || utils2.pyw\n",
    "#>> |╭ C:\\Users\\Flavio\\Documents\\GitHub\\MasterUtils\\.git\n",
    "#>> || config\n",
    "#>> ...\n",
    "#>> |╭ C:\\Users\\Flavio\\Documents\\GitHub\\MasterUtils\\__pycache__\n",
    "#>> || MathUtils.cpython-310.pyc\n",
    "#>> || PlotsUtils.cpython-310.pyc\n",
    "#>> || PlotsUtils.cpython-39.pyc"
   ]
  },
  {
   "cell_type": "markdown",
   "metadata": {},
   "source": [
    "### 6. Lista os arquivos e as pastas de um caminho\n",
    "\n",
    "pathDir= Caminho que sera iniciada a leitura\n",
    "\n",
    "recurs= (True) Será realizada a leitura recursiva de todas as pastas dentro do caminho passado, (False) Será lido apenas o caminho especificado, sem entrar nas pastas"
   ]
  },
  {
   "cell_type": "code",
   "execution_count": null,
   "metadata": {},
   "outputs": [],
   "source": [
    "import os\n",
    "\n",
    "def listFilesandFolders (pathDir, recurs = False):\n",
    "\n",
    "    files = []\n",
    "    folders = []\n",
    "\n",
    "    for name in os.listdir(pathDir):\n",
    "\n",
    "        path = os.path.join(pathDir, name)\n",
    "\n",
    "        if os.path.isfile(path):\n",
    "            files.append(path)\n",
    "\n",
    "            print (path)\n",
    "\n",
    "        if os.path.isdir(path):\n",
    "            folders.append(path)\n",
    "\n",
    "            if (recurs):\n",
    "                filesAp, foldersAp = listFilesandFolders(path, recurs)\n",
    "                for file in filesAp: files.append(file)\n",
    "                for folder in foldersAp: folders.append(folder)\n",
    "\n",
    "    return files, folders"
   ]
  },
  {
   "cell_type": "code",
   "execution_count": null,
   "metadata": {},
   "outputs": [],
   "source": [
    "files, folders= listFilesandFolders (r\"C:\\Users\\Flavio\\Documents\\GitHub\\MasterUtils\", recurs= True)\n",
    "\n",
    "print (files)\n",
    "#>> ['C:\\\\Users\\\\Flavio\\\\Documents\\\\GitHub\\\\MasterUtils\\\\!OtherUtils\\\\utils.pyw', 'C:\\\\Users\\\\Flavio\\\\Documents\\\\GitHub\\\\MasterUtils\\\\!OtherUtils\\\\utils2.pyw', 'C:\\\\Users\\\\Flavio\\\\Documents\\\\GitHub\\\\MasterUtils\\\\.git\\\\config', 'C:\\\\Users\\\\Flavio\\\\Documents\\\\GitHub\\\\MasterUtils\\\\.git\\\\description', 'C:\\\\Users\\\\Flavio\\\\Documents\\\\GitHub\\\\MasterUtils\\\\.git\\\\FETCH_HEAD', 'C:\\\\Users\\\\Flavio\\\\Documents\\\\GitHub\\\\MasterUtils\\\\.git\\\\HEAD', ... ]\n",
    "\n",
    "print (folders)\n",
    "#>> ['C:\\\\Users\\\\Flavio\\\\Documents\\\\GitHub\\\\MasterUtils\\\\!OtherUtils', 'C:\\\\Users\\\\Flavio\\\\Documents\\\\GitHub\\\\MasterUtils\\\\.git', 'C:\\\\Users\\\\Flavio\\\\Documents\\\\GitHub\\\\MasterUtils\\\\.git\\\\hooks', 'C:\\\\Users\\\\Flavio\\\\Documents\\\\GitHub\\\\MasterUtils\\\\.git\\\\info', 'C:\\\\Users\\\\Flavio\\\\Documents\\\\GitHub\\\\MasterUtils\\\\.git\\\\logs', 'C:\\\\Users\\\\Flavio\\\\Documents\\\\GitHub\\\\MasterUtils\\\\.git\\\\logs\\\\refs', 'C:\\\\Users\\\\Flavio\\\\Documents\\\\GitHub\\\\MasterUtils\\\\.git\\\\logs\\\\refs\\\\heads', ... ]"
   ]
  },
  {
   "cell_type": "markdown",
   "metadata": {},
   "source": [
    "### 7. Limpa path\n",
    "\n",
    "Remove caracteres especiais e espacos em branco"
   ]
  },
  {
   "cell_type": "code",
   "execution_count": null,
   "metadata": {},
   "outputs": [],
   "source": [
    "def cleanPath(path):\n",
    "   \n",
    "    path = str(path).strip()\n",
    "    for char in '<>\"|?*':\n",
    "        assert (char not in path), \\\n",
    "               'character {0} is not allowed on a folder name'.format(char)    \n",
    "\n",
    "    path = f'{path!r}'[1:-1].replace('\\\\\\\\', '\\\\').replace('/', '\\\\')\n",
    "\n",
    "    return path"
   ]
  },
  {
   "cell_type": "markdown",
   "metadata": {},
   "source": [
    "### 8. Cria uma pasta ou um arquivo"
   ]
  },
  {
   "cell_type": "code",
   "execution_count": null,
   "metadata": {},
   "outputs": [],
   "source": [
    "import os \n",
    "\n",
    "def addPath(path):\n",
    "\n",
    "    path = cleanPath(path)\n",
    "    path, extension = os.path.splitext(path)\n",
    "\n",
    "    if (extension != ''):\n",
    "        path = os.path.dirname(path) \n",
    "\n",
    "    if (path != ''):\n",
    "        path, folder = os.path.split(path)\n",
    "\n",
    "        if (folder != ''):\n",
    "            path = os.path.join(path, folder)\n",
    "            \n",
    "        os.makedirs(path, exist_ok=True)"
   ]
  },
  {
   "cell_type": "markdown",
   "metadata": {},
   "source": [
    "### 9. Confere se determinado caminho existe"
   ]
  },
  {
   "cell_type": "code",
   "execution_count": null,
   "metadata": {},
   "outputs": [],
   "source": [
    "import os\n",
    "\n",
    "def existePath (pathFileorDir):\n",
    "\n",
    "    return os.path.exists(pathFileorDir)"
   ]
  },
  {
   "cell_type": "markdown",
   "metadata": {},
   "source": [
    "### 10. Verifica se o caminho é um arquivo"
   ]
  },
  {
   "cell_type": "code",
   "execution_count": null,
   "metadata": {},
   "outputs": [],
   "source": [
    "import os\n",
    "\n",
    "def isFile (pathFile):\n",
    "\n",
    "    return os.path.isfile(pathFile)"
   ]
  },
  {
   "cell_type": "markdown",
   "metadata": {},
   "source": [
    "### 11. Verifica se o caminho é uma pasta"
   ]
  },
  {
   "cell_type": "code",
   "execution_count": null,
   "metadata": {},
   "outputs": [],
   "source": [
    "import os\n",
    "\n",
    "def isDir (pathDir):\n",
    "\n",
    "    return os.path.isdir(pathDir)"
   ]
  },
  {
   "cell_type": "markdown",
   "metadata": {},
   "source": [
    "### 12. Deleta um diretorio ou um arquivo\n",
    "\n",
    "confimr= (True) É exibida uma mensagem de confirmação antes de deletar, (False) Apenas é Deletado"
   ]
  },
  {
   "cell_type": "code",
   "execution_count": null,
   "metadata": {},
   "outputs": [],
   "source": [
    "import ctypes\n",
    "import shutil\n",
    "import os\n",
    "\n",
    "\n",
    "def messageBox (title, message, icon = 0x10, buttons = 0, styleWindow = 0x2000):\n",
    "\n",
    "    return ctypes.windll.user32.MessageBoxW(None, message, title, icon | buttons | styleWindow)\n",
    "\n",
    "\n",
    "def delete (pathFileorDir, confirm = True):\n",
    "\n",
    "    valid = False\n",
    "    if (not confirm):\n",
    "        valid = True\n",
    "\n",
    "    if (existePath(pathFileorDir)):\n",
    "        \n",
    "        if (isFile(pathFileorDir)):\n",
    "            validReturn = messageBox(\"Delete File\", \"Delele File:\\n\" + str(pathFileorDir), 0x40, 1, 0x1000)\n",
    "            if (validReturn == 1): valid = True\n",
    "            if (valid): os.remove(pathFileorDir)\n",
    "        \n",
    "        else:\n",
    "            validReturn = messageBox(\"Delete Folder\", \"Delele All Folder:\\n\" + str(pathFileorDir), 0x40, 1, 0x1000)\n",
    "            if (validReturn == 1): valid = True\n",
    "            if (valid): shutil.rmtree(pathFileorDir)\n",
    "\n",
    "        return True\n",
    "\n",
    "    return False"
   ]
  },
  {
   "cell_type": "markdown",
   "metadata": {},
   "source": [
    "### 13. Cria um diretorio"
   ]
  },
  {
   "cell_type": "code",
   "execution_count": null,
   "metadata": {},
   "outputs": [],
   "source": [
    "import os\n",
    "\n",
    "def createPath (pathCreate):\n",
    "\n",
    "    if (not existePath(pathCreate)):\n",
    "        os.makedirs(pathCreate)"
   ]
  },
  {
   "cell_type": "markdown",
   "metadata": {},
   "source": [
    "### 14. Move um arquivo ou pasta\n",
    "\n",
    "iniPath= Caminho inicial\n",
    "\n",
    "outPath= Caminho de destino"
   ]
  },
  {
   "cell_type": "code",
   "execution_count": 19,
   "metadata": {},
   "outputs": [],
   "source": [
    "#Dependente\n",
    "import os\n",
    "import ctypes\n",
    "import shutil\n",
    "\n",
    "\n",
    "def messageBox (title, message, icon = 0x10, buttons = 0, styleWindow = 0x2000):\n",
    "\n",
    "    return ctypes.windll.user32.MessageBoxW(None, message, title, icon | buttons | styleWindow)\n",
    "\n",
    "    \n",
    "def delete (pathFileorDir, confirm = True):\n",
    "\n",
    "    valid = False\n",
    "    if (not confirm):\n",
    "        valid = True\n",
    "\n",
    "    if (existePath(pathFileorDir)):\n",
    "        \n",
    "        if (isFile(pathFileorDir)):\n",
    "            validReturn = messageBox(\"Delete File\", \"Delele File:\\n\" + str(pathFileorDir), 0x40, 1, 0x1000)\n",
    "            if (validReturn == 1): valid = True\n",
    "            if (valid): os.remove(pathFileorDir)\n",
    "        \n",
    "        else:\n",
    "            validReturn = messageBox(\"Delete Folder\", \"Delele All Folder:\\n\" + str(pathFileorDir), 0x40, 1, 0x1000)\n",
    "            if (validReturn == 1): valid = True\n",
    "            if (valid): shutil.rmtree(pathFileorDir)\n",
    "\n",
    "        return True\n",
    "\n",
    "    return False\n",
    "\n",
    "\n",
    "def listFilesandFolders (pathDir, recurs = False):\n",
    "\n",
    "    files = []\n",
    "    folders = []\n",
    "\n",
    "    for name in os.listdir(pathDir):\n",
    "\n",
    "        path = os.path.join(pathDir, name)\n",
    "\n",
    "        if os.path.isfile(path):\n",
    "            files.append(path)\n",
    "\n",
    "            print (path)\n",
    "\n",
    "        if os.path.isdir(path):\n",
    "            folders.append(path)\n",
    "\n",
    "            if (recurs):\n",
    "                filesAp, foldersAp = listFilesandFolders(path, recurs)\n",
    "                for file in filesAp: files.append(file)\n",
    "                for folder in foldersAp: folders.append(folder)\n",
    "\n",
    "    return files, folders"
   ]
  },
  {
   "cell_type": "code",
   "execution_count": 17,
   "metadata": {},
   "outputs": [],
   "source": [
    "import os\n",
    "\n",
    "def moveOrRename (iniPath, outPath):\n",
    "\n",
    "    if (os.path.isfile(iniPath)):\n",
    "        os.rename(iniPath, outPath)\n",
    "\n",
    "    elif (os.path.isdir(iniPath)):\n",
    "\n",
    "        iniPath = iniPath.replace(\"\\\\\", \"/\")\n",
    "        folderName = iniPath.split(\"/\")[-1]\n",
    "\n",
    "        if (not existePath(outPath + \"/\" + folderName)):\n",
    "            os.makedirs(outPath + \"/\" + folderName)\n",
    "\n",
    "        files, folders = listFilesandFolders (iniPath, True)\n",
    "\n",
    "        for folder in folders: \n",
    "            folder = folder.replace(iniPath, outPath + \"/\" + folderName)\n",
    "\n",
    "            if (not existePath(folder)):\n",
    "                os.makedirs(folder)\n",
    "\n",
    "        for file in files: \n",
    "\n",
    "            outFile = file.replace(iniPath, outPath + \"/\" + folderName)\n",
    "            moveOrRename(file, outFile)\n",
    "\n",
    "        delete(iniPath, False)"
   ]
  },
  {
   "cell_type": "markdown",
   "metadata": {},
   "source": [
    "### 15. Copia um arquivo ou uma pasta\n",
    "\n",
    "iniPath= Caminho inicial\n",
    "\n",
    "outPath= Caminho de destino"
   ]
  },
  {
   "cell_type": "code",
   "execution_count": null,
   "metadata": {},
   "outputs": [],
   "source": [
    "#Dependente\n",
    "import os\n",
    "\n",
    "\n",
    "def listFilesandFolders (pathDir, recurs = False):\n",
    "\n",
    "    files = []\n",
    "    folders = []\n",
    "\n",
    "    for name in os.listdir(pathDir):\n",
    "\n",
    "        path = os.path.join(pathDir, name)\n",
    "\n",
    "        if os.path.isfile(path):\n",
    "            files.append(path)\n",
    "\n",
    "            print (path)\n",
    "\n",
    "        if os.path.isdir(path):\n",
    "            folders.append(path)\n",
    "\n",
    "            if (recurs):\n",
    "                filesAp, foldersAp = listFilesandFolders(path, recurs)\n",
    "                for file in filesAp: files.append(file)\n",
    "                for folder in foldersAp: folders.append(folder)\n",
    "\n",
    "    return files, folders"
   ]
  },
  {
   "cell_type": "code",
   "execution_count": null,
   "metadata": {},
   "outputs": [],
   "source": [
    "import shutil \n",
    "\n",
    "def copyFileorFolder (iniPath, outPath):\n",
    "\n",
    "    if (os.path.isfile(iniPath)):\n",
    "        shutil.copy(iniPath, outPath)\n",
    "\n",
    "    elif (os.path.isdir(iniPath)):\n",
    "\n",
    "        iniPath = iniPath.replace(\"\\\\\", \"/\")\n",
    "        folderName = iniPath.split(\"/\")[-1]\n",
    "\n",
    "        if (not existePath(outPath + \"/\" + folderName)):\n",
    "            os.makedirs(outPath + \"/\" + folderName)\n",
    "\n",
    "        files, folders = listFilesandFolders (iniPath, True)\n",
    "\n",
    "        for folder in folders: \n",
    "            folder = folder.replace(iniPath, outPath + \"/\" + folderName)\n",
    "\n",
    "            if (not existePath(folder)):\n",
    "                os.makedirs(folder)\n",
    "\n",
    "        for file in files: \n",
    "\n",
    "            outFile = file.replace(iniPath, outPath + \"/\" + folderName)\n",
    "            shutil.copy(file, outFile)"
   ]
  }
 ],
 "metadata": {
  "kernelspec": {
   "display_name": "Python 3.11.0 64-bit",
   "language": "python",
   "name": "python3"
  },
  "language_info": {
   "codemirror_mode": {
    "name": "ipython",
    "version": 3
   },
   "file_extension": ".py",
   "mimetype": "text/x-python",
   "name": "python",
   "nbconvert_exporter": "python",
   "pygments_lexer": "ipython3",
   "version": "3.11.0"
  },
  "orig_nbformat": 4,
  "vscode": {
   "interpreter": {
    "hash": "bbdadfe1f83964498f598e2ccbc32e3d3338e96c8519380faba7ad29e0797684"
   }
  }
 },
 "nbformat": 4,
 "nbformat_minor": 2
}
